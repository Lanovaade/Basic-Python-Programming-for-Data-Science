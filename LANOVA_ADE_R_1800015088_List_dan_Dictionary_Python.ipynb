{
  "nbformat": 4,
  "nbformat_minor": 0,
  "metadata": {
    "colab": {
      "name": "LANOVA ADE R_1800015088_List_dan_Dictionary_Python.ipynb",
      "provenance": [],
      "collapsed_sections": [],
      "include_colab_link": true
    },
    "kernelspec": {
      "name": "python3",
      "display_name": "Python 3"
    },
    "language_info": {
      "name": "python"
    }
  },
  "cells": [
    {
      "cell_type": "markdown",
      "metadata": {
        "id": "view-in-github",
        "colab_type": "text"
      },
      "source": [
        "<a href=\"https://colab.research.google.com/github/Lanovaade/Basic-Python-Programming-for-Data-Science/blob/main/LANOVA_ADE_R_1800015088_List_dan_Dictionary_Python.ipynb\" target=\"_parent\"><img src=\"https://colab.research.google.com/assets/colab-badge.svg\" alt=\"Open In Colab\"/></a>"
      ]
    },
    {
      "cell_type": "markdown",
      "metadata": {
        "id": "kMd1Q9NB1BqH"
      },
      "source": [
        "1. Buatlah sebuah list dengan elemen bilangan kelipatan 5 dengan panjang elemen sejumlah 100"
      ]
    },
    {
      "cell_type": "code",
      "metadata": {
        "id": "ogBU6p9j0yXf",
        "colab": {
          "base_uri": "https://localhost:8080/"
        },
        "outputId": "200bc9b1-1916-42f5-ca4d-db15d3a5e564"
      },
      "source": [
        "#Tuliskan kodemu di bawah ini;\n",
        "\n",
        "bilangan = [x*5 for x in range (100)]\n",
        "print(bilangan)\n",
        "print(len(bilangan))\n"
      ],
      "execution_count": null,
      "outputs": [
        {
          "output_type": "stream",
          "text": [
            "[0, 5, 10, 15, 20, 25, 30, 35, 40, 45, 50, 55, 60, 65, 70, 75, 80, 85, 90, 95, 100, 105, 110, 115, 120, 125, 130, 135, 140, 145, 150, 155, 160, 165, 170, 175, 180, 185, 190, 195, 200, 205, 210, 215, 220, 225, 230, 235, 240, 245, 250, 255, 260, 265, 270, 275, 280, 285, 290, 295, 300, 305, 310, 315, 320, 325, 330, 335, 340, 345, 350, 355, 360, 365, 370, 375, 380, 385, 390, 395, 400, 405, 410, 415, 420, 425, 430, 435, 440, 445, 450, 455, 460, 465, 470, 475, 480, 485, 490, 495]\n",
            "100\n"
          ],
          "name": "stdout"
        }
      ]
    },
    {
      "cell_type": "markdown",
      "metadata": {
        "id": "OHyMAfrd1SL3"
      },
      "source": [
        "2. Buatlah sebuah dictionary dengan jumlah elemen 100 dan lakukanlah beberapa modifikasi(minimal 3) di dalamnya."
      ]
    },
    {
      "cell_type": "code",
      "metadata": {
        "id": "b40H0S8J1lD9",
        "colab": {
          "base_uri": "https://localhost:8080/",
          "height": 135
        },
        "outputId": "d7018f23-ce59-4818-a9b2-fb67429fe2c5"
      },
      "source": [
        "#Tuliskan kodemu di bawah ini:\n",
        "\n",
        "#membuat dictionary\n",
        "nomor=[]\n",
        "for i in range(1,100):\n",
        "      nomor.append(i)\n",
        "print(nomor)\n",
        "\n",
        "#Modifikasi 1\n",
        "nomor.insert(2,20)\n",
        "print(nomor)\n",
        "\n",
        "\n",
        "#Modifikasi 2\n",
        "nomor.clear()\n",
        "print(nomor)\n",
        "\n",
        "\n",
        "#Modifikasi 3\n",
        "nomor.remove(5):\n",
        "print(nomor)\n",
        "\n",
        "\n",
        "\n",
        "\n"
      ],
      "execution_count": null,
      "outputs": [
        {
          "output_type": "error",
          "ename": "SyntaxError",
          "evalue": "ignored",
          "traceback": [
            "\u001b[0;36m  File \u001b[0;32m\"<ipython-input-52-a77f5014d587>\"\u001b[0;36m, line \u001b[0;32m20\u001b[0m\n\u001b[0;31m    nomor.remove(5):\u001b[0m\n\u001b[0m                    ^\u001b[0m\n\u001b[0;31mSyntaxError\u001b[0m\u001b[0;31m:\u001b[0m invalid syntax\n"
          ]
        }
      ]
    }
  ]
}